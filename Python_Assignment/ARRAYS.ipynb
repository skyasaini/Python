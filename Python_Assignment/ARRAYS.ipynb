{
 "cells": [
  {
   "cell_type": "markdown",
   "id": "9070558e",
   "metadata": {},
   "source": [
    "## 1. Find 2 elements with given sum"
   ]
  },
  {
   "cell_type": "code",
   "execution_count": 5,
   "id": "89a53cbb",
   "metadata": {},
   "outputs": [
    {
     "name": "stdout",
     "output_type": "stream",
     "text": [
      "Pair found (3, 7)\n"
     ]
    }
   ],
   "source": [
    "# Function to find a pair in an array with a given sum using sorting\n",
    "def findPair(nums, target):\n",
    " \n",
    "    # sort the list in ascending order\n",
    "    nums.sort()\n",
    " \n",
    "    # maintain two indices pointing to endpoints of the list\n",
    "    (low, high) = (0, len(nums) - 1)\n",
    " \n",
    "    # reduce the search space `nums[low…high]` at each iteration of the loop\n",
    " \n",
    "    # loop till the search space is exhausted\n",
    "    while low < high:\n",
    " \n",
    "        if nums[low] + nums[high] == target:        # target found\n",
    "            print('Pair found', (nums[low], nums[high]))\n",
    "            return\n",
    " \n",
    "        # increment `low` index if the total is less than the desired sum;\n",
    "        # decrement `high` index if the total is more than the desired sum\n",
    "        if nums[low] + nums[high] < target:\n",
    "            low = low + 1\n",
    "        else:\n",
    "            high = high - 1\n",
    " \n",
    "    # No pair with the given sum exists\n",
    "    print('Pair not found')\n",
    "nums = [6, 7, 2, 5, 3, 1]\n",
    "target = 10\n",
    " \n",
    "findPair(nums, target)"
   ]
  },
  {
   "cell_type": "markdown",
   "id": "721106a3",
   "metadata": {},
   "source": [
    "## 2. Majority Element"
   ]
  },
  {
   "cell_type": "code",
   "execution_count": 6,
   "id": "33789cdb",
   "metadata": {},
   "outputs": [
    {
     "name": "stdout",
     "output_type": "stream",
     "text": [
      "2\n"
     ]
    }
   ],
   "source": [
    "def majorityNumber(nums):\n",
    "      \n",
    "    # stores the num count \n",
    "    num_count = {}\n",
    "      \n",
    "    # iterate in the array \n",
    "    for num in nums:\n",
    "          \n",
    "        if num in num_count:\n",
    "            num_count[num] += 1\n",
    "        else:\n",
    "            num_count[num] = 1\n",
    "  \n",
    "    for num in num_count:\n",
    "        if num_count[num] > len(nums)/2:\n",
    "            return num\n",
    "    return -1\n",
    "  \n",
    "# Driver Code\n",
    "a = [2, 2, 1, 1, 1, 2, 2]\n",
    "print(majorityNumber(a))"
   ]
  },
  {
   "cell_type": "markdown",
   "id": "287e86ba",
   "metadata": {},
   "source": [
    "## 3. Find the number occuring odd number of times"
   ]
  },
  {
   "cell_type": "code",
   "execution_count": 9,
   "id": "67d94e80",
   "metadata": {},
   "outputs": [
    {
     "name": "stdout",
     "output_type": "stream",
     "text": [
      "5\n"
     ]
    }
   ],
   "source": [
    "def getOddOccurrence(arr, arr_size):\n",
    "     \n",
    "    for i in range(0,arr_size):\n",
    "        count = 0\n",
    "        for j in range(0, arr_size):\n",
    "            if arr[i] == arr[j]:\n",
    "                count+=1\n",
    "             \n",
    "        if (count % 2 != 0):\n",
    "            return arr[i]\n",
    "         \n",
    "    return -1\n",
    "     \n",
    "     \n",
    "# driver code\n",
    "arr = [2, 3, 5, 4, 5, 2, 4, 3, 5, 2, 4, 4, 2 ]\n",
    "n = len(arr)\n",
    "print(getOddOccurrence(arr, n))"
   ]
  },
  {
   "cell_type": "markdown",
   "id": "5a3cec4a",
   "metadata": {},
   "source": [
    "## 4. Merge an array of size n into another of size m + n"
   ]
  },
  {
   "cell_type": "code",
   "execution_count": 10,
   "id": "bbab1b7c",
   "metadata": {},
   "outputs": [
    {
     "name": "stdout",
     "output_type": "stream",
     "text": [
      "2  5  7  8  9  13  15  20  25  \n"
     ]
    }
   ],
   "source": [
    "NA = -1\n",
    " \n",
    "# Function to move m elements\n",
    "# at the end of array mPlusN[]\n",
    " \n",
    " \n",
    "def moveToEnd(mPlusN, size):\n",
    " \n",
    "    i = 0\n",
    "    j = size - 1\n",
    "    for i in range(size-1, -1, -1):\n",
    "        if (mPlusN[i] != NA):\n",
    " \n",
    "            mPlusN[j] = mPlusN[i]\n",
    "            j -= 1\n",
    " \n",
    "# Merges array N[]\n",
    "# of size n into array mPlusN[]\n",
    "# of size m+n\n",
    " \n",
    " \n",
    "def merge(mPlusN, N, m, n):\n",
    " \n",
    "    i = n  # Current index of i/p part of mPlusN[]\n",
    "    j = 0  # Current index of N[]\n",
    "    k = 0  # Current index of output mPlusN[]\n",
    "    while (k < (m+n)):\n",
    " \n",
    "        # Take an element from mPlusN[] if\n",
    "        # a) value of the picked\n",
    "        # element is smaller and we have\n",
    "        # not reached end of it\n",
    "        # b) We have reached end of N[] */\n",
    "        if ((j == n) or (i < (m+n) and mPlusN[i] <= N[j])):\n",
    " \n",
    "            mPlusN[k] = mPlusN[i]\n",
    "            k += 1\n",
    "            i += 1\n",
    " \n",
    "        else:  # Otherwise take element from N[]\n",
    " \n",
    "            mPlusN[k] = N[j]\n",
    "            k += 1\n",
    "            j += 1\n",
    " \n",
    "# Utility that prints\n",
    "# out an array on a line\n",
    " \n",
    " \n",
    "def printArray(arr, size):\n",
    " \n",
    "    for i in range(size):\n",
    "        print(arr[i], \" \", end=\"\")\n",
    " \n",
    "    print()\n",
    " \n",
    " \n",
    "# Driver function to\n",
    "# test above functions\n",
    " \n",
    "# Initialize arrays\n",
    "mPlusN = [2, 8, NA, NA, NA, 13, NA, 15, 20]\n",
    "N = [5, 7, 9, 25]\n",
    "n = len(N)\n",
    " \n",
    "m = len(mPlusN) - n\n",
    " \n",
    "# Move the m elements\n",
    "# at the end of mPlusN\n",
    "moveToEnd(mPlusN, m+n)\n",
    " \n",
    "# Merge N[] into mPlusN[]\n",
    "merge(mPlusN, N, m, n)\n",
    " \n",
    "# Print the resultant mPlusN\n",
    "printArray(mPlusN, m+n)"
   ]
  },
  {
   "cell_type": "markdown",
   "id": "75977977",
   "metadata": {},
   "source": [
    "## 5. Rotate an array\n",
    "\n"
   ]
  },
  {
   "cell_type": "code",
   "execution_count": 11,
   "id": "86af15ff",
   "metadata": {},
   "outputs": [
    {
     "name": "stdout",
     "output_type": "stream",
     "text": [
      "3 4 5 6 7 1 2 "
     ]
    }
   ],
   "source": [
    "def rotate(L, d, n):\n",
    "    k = L.index(d)\n",
    "    new_lis = []\n",
    "    new_lis = L[k+1:]+L[0:k+1]\n",
    "    return new_lis\n",
    " \n",
    "                                                                                                                                                                                                                                                                                                                                                                                                                                                                                                                                                                                                                                                                                                                                                                                                                                                                                                                                                                                                                                                    #5. Rotate an array\n",
    "\n",
    "\n",
    "arr = [1, 2, 3, 4, 5, 6, 7]\n",
    "d = 2\n",
    "N = len(arr)\n",
    "\n",
    "# Function call\n",
    "arr = rotate(arr, d, N)\n",
    "for i in arr:\n",
    "    print(i, end=\" \")"
   ]
  },
  {
   "cell_type": "markdown",
   "id": "e7812cfc",
   "metadata": {},
   "source": [
    "## 6. Leaders in an array\n",
    "\n"
   ]
  },
  {
   "cell_type": "code",
   "execution_count": 12,
   "id": "cc27d1dd",
   "metadata": {},
   "outputs": [
    {
     "name": "stdout",
     "output_type": "stream",
     "text": [
      "17 5 2 "
     ]
    }
   ],
   "source": [
    "def printLeaders(arr,size):\n",
    "     \n",
    "    for i in range(0, size):\n",
    "        for j in range(i+1, size):\n",
    "            if arr[i]<=arr[j]:\n",
    "                break\n",
    "        if j == size-1: # If loop didn't break\n",
    "            print (arr[i],end=' ')\n",
    " \n",
    "# Driver function\n",
    "arr=[16, 17, 4, 3, 5, 2]\n",
    "printLeaders(arr, len(arr))\n",
    " "
   ]
  },
  {
   "cell_type": "markdown",
   "id": "cbfc0188",
   "metadata": {},
   "source": [
    "## 7. Majority element in sorted array\n"
   ]
  },
  {
   "cell_type": "code",
   "execution_count": 13,
   "id": "683b3c47",
   "metadata": {},
   "outputs": [
    {
     "name": "stdout",
     "output_type": "stream",
     "text": [
      " 3 appears more than  3 times in arr[]\n"
     ]
    }
   ],
   "source": [
    "def isMajority(arr, n, x):\n",
    "     \n",
    "    # Find the index of first occurrence of x in arr[] */\n",
    "    i = _binarySearch(arr, 0, n-1, x)\n",
    " \n",
    "    # If element is not present at all, return false*/\n",
    "    if i == -1:\n",
    "        return False\n",
    " \n",
    "    # check if the element is present more than n / 2 times */\n",
    "    if ((i + n//2) <= (n -1)) and arr[i + n//2] == x:\n",
    "        return True\n",
    "    else:\n",
    "        return False\n",
    " \n",
    "# If x is present in arr[low...high] then returns the index of\n",
    "# first occurrence of x, otherwise returns -1 */\n",
    "def _binarySearch(arr, low, high, x):\n",
    "    if high >= low:\n",
    "        mid = (low + high)//2 # low + (high - low)//2;\n",
    " \n",
    "        ''' Check if arr[mid] is the first occurrence of x.\n",
    "            arr[mid] is first occurrence if x is one of the following\n",
    "            is true:\n",
    "            (i) mid == 0 and arr[mid] == x\n",
    "            (ii) arr[mid-1] < x and arr[mid] == x'''\n",
    "         \n",
    "        if (mid == 0 or x > arr[mid-1]) and (arr[mid] == x):\n",
    "            return mid\n",
    "        elif x > arr[mid]:\n",
    "            return _binarySearch(arr, (mid + 1), high, x)\n",
    "        else:\n",
    "            return _binarySearch(arr, low, (mid -1), x)\n",
    "    return -1\n",
    " \n",
    " \n",
    "# Driver program to check above functions */\n",
    "arr = [1, 2, 3, 3, 3, 3, 10]\n",
    "n = len(arr)\n",
    "x = 3\n",
    "if (isMajority(arr, n, x)):\n",
    "    print (\"% d appears more than % d times in arr[]\"\n",
    "                                            % (x, n//2))\n",
    "else:\n",
    "    print (\"% d does not appear more than % d times in arr[]\"\n",
    "                                                    % (x, n//2))\n",
    " "
   ]
  },
  {
   "cell_type": "markdown",
   "id": "31ee6339",
   "metadata": {},
   "source": [
    "## 8. Segregate 0s and 1s in an array\n",
    "\n"
   ]
  },
  {
   "cell_type": "code",
   "execution_count": 14,
   "id": "9f5545c9",
   "metadata": {},
   "outputs": [
    {
     "name": "stdout",
     "output_type": "stream",
     "text": [
      "Array after segregation is 0 0 1 1 1 1 "
     ]
    }
   ],
   "source": [
    "def segregate0and1(arr, n) :\n",
    "     \n",
    "    # Counts the no of zeros in arr\n",
    "    count = 0\n",
    " \n",
    "    for i in range(0, n) :\n",
    "        if (arr[i] == 0) :\n",
    "            count = count + 1\n",
    " \n",
    "    # Loop fills the arr with 0 until count\n",
    "    for i in range(0, count) :\n",
    "        arr[i] = 0\n",
    " \n",
    "    # Loop fills remaining arr space with 1\n",
    "    for i in range(count, n) :\n",
    "        arr[i] = 1\n",
    "         \n",
    " \n",
    "# Function to print segregated array\n",
    "def print_arr(arr , n) :\n",
    "    print( \"Array after segregation is \",end = \"\")\n",
    " \n",
    "    for i in range(0, n) :\n",
    "        print(arr[i] , end = \" \")\n",
    "         \n",
    " \n",
    "# Driver function\n",
    "arr = [ 0, 1, 0, 1, 1, 1 ]\n",
    "n = len(arr)\n",
    "     \n",
    "segregate0and1(arr, n)\n",
    "print_arr(arr, n)"
   ]
  },
  {
   "cell_type": "markdown",
   "id": "94cd809b",
   "metadata": {},
   "source": [
    "## 9. Product array\n",
    "\n"
   ]
  },
  {
   "cell_type": "code",
   "execution_count": 15,
   "id": "a23a9100",
   "metadata": {},
   "outputs": [
    {
     "name": "stdout",
     "output_type": "stream",
     "text": [
      "The product array is:\n",
      "180 600 360 300 900 "
     ]
    }
   ],
   "source": [
    "def productArray(arr, n):\n",
    " \n",
    "    # Base case\n",
    "    if(n == 1):\n",
    "        print(0)\n",
    "        return\n",
    " \n",
    "    # Allocate memory for temporary arrays left[] and right[]\n",
    "    left = [0]*n\n",
    "    right = [0]*n\n",
    " \n",
    "    # Allocate memory for the product array\n",
    "    prod = [0]*n\n",
    " \n",
    "    # Left most element of left array is always 1\n",
    "    left[0] = 1\n",
    " \n",
    "    # Right most element of right array is always 1\n",
    "    right[n - 1] = 1\n",
    " \n",
    "    # Construct the left array\n",
    "    for i in range(1, n):\n",
    "        left[i] = arr[i - 1] * left[i - 1]\n",
    " \n",
    "    # Construct the right array\n",
    "    for j in range(n-2, -1, -1):\n",
    "        right[j] = arr[j + 1] * right[j + 1]\n",
    " \n",
    "    # Construct the product array using\n",
    "    # left[] and right[]\n",
    "    for i in range(n):\n",
    "        prod[i] = left[i] * right[i]\n",
    " \n",
    "    # print the constructed prod array\n",
    "    for i in range(n):\n",
    "        print(prod[i], end=' ')\n",
    " \n",
    " \n",
    "# Driver code\n",
    "arr = [10, 3, 5, 6, 2]\n",
    "n = len(arr)\n",
    "print(\"The product array is:\")\n",
    "productArray(arr, n)"
   ]
  },
  {
   "cell_type": "code",
   "execution_count": null,
   "id": "67a43f78",
   "metadata": {},
   "outputs": [],
   "source": []
  }
 ],
 "metadata": {
  "kernelspec": {
   "display_name": "Python 3 (ipykernel)",
   "language": "python",
   "name": "python3"
  },
  "language_info": {
   "codemirror_mode": {
    "name": "ipython",
    "version": 3
   },
   "file_extension": ".py",
   "mimetype": "text/x-python",
   "name": "python",
   "nbconvert_exporter": "python",
   "pygments_lexer": "ipython3",
   "version": "3.9.7"
  }
 },
 "nbformat": 4,
 "nbformat_minor": 5
}
